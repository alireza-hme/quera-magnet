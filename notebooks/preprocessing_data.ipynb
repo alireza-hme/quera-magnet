{
 "cells": [
  {
   "cell_type": "code",
   "execution_count": 12,
   "metadata": {},
   "outputs": [],
   "source": [
    "import pandas as pd\n",
    "\n",
    "\n",
    "def load_data(filepath):\n",
    "    return pd.read_csv(filepath)\n",
    "\n",
    "def clean_data(df):\n",
    "    # Remove rows without \"Salary\", \"Level\", and \"Collaboration Type\"\n",
    "    df = df.dropna(subset=[\"Level\", \"Salary\", \"Collaboration Type\"], how=\"all\")\n",
    "    return df\n",
    "\n",
    "def extract_salary(df):\n",
    "    # Extract numeric values from \"Salary\"\n",
    "    df[\"Salary\"] = df[\"Salary\"].str.extract('(\\d+)', expand=False).astype(float)\n",
    "    df.reset_index(drop=True, inplace=True)\n",
    "    return df\n",
    "\n",
    "def fill_missing_salaries(df):\n",
    "    # Fill NaN values in \"Salary\" based on the mean salary of each \"Level\"\n",
    "    for idx, val in enumerate(df[\"Salary\"]):\n",
    "        if pd.isna(val):\n",
    "            level = df.iloc[idx][\"Level\"]\n",
    "            level_mean = df.groupby(by=\"Level\").get_group(level)[\"Salary\"].mean()\n",
    "            df.loc[idx, \"Salary\"] = level_mean\n",
    "\n",
    "    return df\n",
    "\n",
    "def preprocess_data(filepath):\n",
    "    df = load_data(filepath)\n",
    "    df = clean_data(df)\n",
    "    df = extract_salary(df)\n",
    "    df = fill_missing_salaries(df)\n",
    "    # df.reset_index(drop=True, inplace=True)\n",
    "    return df\n",
    "\n",
    "df = preprocess_data(\"../data/raw/job_posts.csv\")\n"
   ]
  }
 ],
 "metadata": {
  "kernelspec": {
   "display_name": "magnet_env",
   "language": "python",
   "name": "python3"
  },
  "language_info": {
   "codemirror_mode": {
    "name": "ipython",
    "version": 3
   },
   "file_extension": ".py",
   "mimetype": "text/x-python",
   "name": "python",
   "nbconvert_exporter": "python",
   "pygments_lexer": "ipython3",
   "version": "3.10.12"
  }
 },
 "nbformat": 4,
 "nbformat_minor": 2
}
